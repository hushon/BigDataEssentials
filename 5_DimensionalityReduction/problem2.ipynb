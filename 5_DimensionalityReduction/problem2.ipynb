{
 "cells": [
  {
   "cell_type": "markdown",
   "metadata": {},
   "source": [
    "# HW #2, Introduction to Big Data Analytics, Fall 2019"
   ]
  },
  {
   "cell_type": "markdown",
   "metadata": {},
   "source": [
    "## 2. Dimensionality reduction"
   ]
  },
  {
   "cell_type": "markdown",
   "metadata": {},
   "source": [
    "### Exercise 11.1.7"
   ]
  },
  {
   "cell_type": "code",
   "execution_count": 1,
   "metadata": {},
   "outputs": [],
   "source": [
    "import numpy as np\n",
    "from numpy.linalg import norm, matrix_rank\n",
    "\n",
    "def principal_eigenpair(M, epsilon=1e-6):\n",
    "    '''\n",
    "    Find principal eigenvector and eigenvalue using power iteration method.\n",
    "    '''\n",
    "    M = np.array(M)\n",
    "    nCol, nRow = M.shape\n",
    "    \n",
    "    x = np.ones((nRow, 1))\n",
    "    x_prev = np.full((nRow, 1), fill_value=np.inf)\n",
    "    \n",
    "    while norm(x - x_prev) > epsilon:\n",
    "        p = np.matmul(M, x)\n",
    "        x_prev, x = x, p/norm(p)\n",
    "    \n",
    "    l = np.matmul(np.matmul(x.T, M), x).flatten()\n",
    "    \n",
    "    return x, l\n",
    "\n",
    "def subtract_eigenpair(M, e, l):\n",
    "    return M - l*np.matmul(e, e.T)\n",
    "\n",
    "def find_all_eigenpairs(M):\n",
    "    M_ = []\n",
    "    e_ = []\n",
    "    l_ = []\n",
    "    for _ in range(matrix_rank(M)):\n",
    "        e, l = principal_eigenpair(M)\n",
    "        M_.append(M)\n",
    "        e_.append(e)\n",
    "        l_.append(l)\n",
    "        M = subtract_eigenpair(M, e, l)\n",
    "    return M_, e_, l_"
   ]
  },
  {
   "cell_type": "code",
   "execution_count": 28,
   "metadata": {
    "scrolled": true
   },
   "outputs": [
    {
     "name": "stdout",
     "output_type": "stream",
     "text": [
      "[[0.19382269]\n",
      " [0.4722473 ]\n",
      " [0.85989258]] [7.87298335]\n"
     ]
    }
   ],
   "source": [
    "''' problem (a) and (b) '''\n",
    "M = np.array([[1,1,1], [1,2,3], [1,3,6]])\n",
    "e, l = principal_eigenpair(M)\n",
    "print e, l"
   ]
  },
  {
   "cell_type": "code",
   "execution_count": 29,
   "metadata": {},
   "outputs": [
    {
     "name": "stdout",
     "output_type": "stream",
     "text": [
      "[[ 0.7042338   0.2793682  -0.31216407]\n",
      " [ 0.2793682   0.24418683 -0.19707644]\n",
      " [-0.31216407 -0.19707644  0.17859602]]\n"
     ]
    }
   ],
   "source": [
    "''' problem (c) '''\n",
    "print subtract_eigenpair(M, e, l)"
   ]
  },
  {
   "cell_type": "code",
   "execution_count": 30,
   "metadata": {
    "scrolled": false
   },
   "outputs": [
    {
     "name": "stdout",
     "output_type": "stream",
     "text": [
      "([array([[1, 1, 1],\n",
      "       [1, 2, 3],\n",
      "       [1, 3, 6]]), array([[ 0.7042338 ,  0.2793682 , -0.31216407],\n",
      "       [ 0.2793682 ,  0.24418683, -0.19707644],\n",
      "       [-0.31216407, -0.19707644,  0.17859602]]), array([[ 0.03756718, -0.05396498,  0.02116944],\n",
      "       [-0.05396498,  0.0775203 , -0.03040975],\n",
      "       [ 0.02116944, -0.03040975,  0.01192917]])], [array([[0.19382269],\n",
      "       [0.4722473 ],\n",
      "       [0.85989258]]), array([[ 0.81649655],\n",
      "       [ 0.40824812],\n",
      "       [-0.40824852]]), array([[ 0.54384354],\n",
      "       [-0.78122728],\n",
      "       [ 0.30646067]])], [array([7.87298335]), array([1.]), array([0.12701665])])\n"
     ]
    }
   ],
   "source": [
    "''' problem (d) and (e) '''\n",
    "print find_all_eigenpairs(M)"
   ]
  },
  {
   "cell_type": "markdown",
   "metadata": {},
   "source": [
    "### Exercise 11.3.1"
   ]
  },
  {
   "cell_type": "code",
   "execution_count": 254,
   "metadata": {
    "ExecuteTime": {
     "end_time": "2019-10-26T11:34:07.898793Z",
     "start_time": "2019-10-26T11:34:07.888828Z"
    }
   },
   "outputs": [],
   "source": [
    "import numpy as np\n",
    "np.set_printoptions(precision=3, suppress=True)\n",
    "M = np.array([[1, 2, 3], \n",
    "              [3, 4, 5], \n",
    "              [5, 4, 3], \n",
    "              [0, 2, 4], \n",
    "              [1, 3, 5]])"
   ]
  },
  {
   "cell_type": "code",
   "execution_count": 255,
   "metadata": {
    "ExecuteTime": {
     "end_time": "2019-10-26T11:34:08.415042Z",
     "start_time": "2019-10-26T11:34:08.406079Z"
    },
    "scrolled": true
   },
   "outputs": [
    {
     "name": "stdout",
     "output_type": "stream",
     "text": [
      "[[36 37 38]\n",
      " [37 49 61]\n",
      " [38 61 84]]\n",
      "[[14 26 22 16 22]\n",
      " [26 50 46 28 40]\n",
      " [22 46 50 20 32]\n",
      " [16 28 20 20 26]\n",
      " [22 40 32 26 35]]\n"
     ]
    }
   ],
   "source": [
    "''' problem (a) '''\n",
    "mtm = np.matmul(M.T, M)\n",
    "mmt = np.matmul(M, M.T)\n",
    "print mtm\n",
    "print mmt"
   ]
  },
  {
   "cell_type": "code",
   "execution_count": 262,
   "metadata": {
    "ExecuteTime": {
     "end_time": "2019-10-26T11:35:55.906271Z",
     "start_time": "2019-10-26T11:35:55.891095Z"
    },
    "scrolled": true
   },
   "outputs": [
    {
     "name": "stdout",
     "output_type": "stream",
     "text": [
      "[153.567  15.433   0.   ]\n",
      "[[-0.409 -0.816  0.408]\n",
      " [-0.563 -0.126 -0.816]\n",
      " [-0.718  0.564  0.408]]\n",
      "[153.567  -0.     15.433  -0.     -0.   ]\n",
      "[[ 0.298  0.941  0.159  0.711  0.711]\n",
      " [ 0.571 -0.175 -0.033 -0.176 -0.176]\n",
      " [ 0.521 -0.04  -0.736  0.064  0.064]\n",
      " [ 0.323 -0.188  0.51   0.266  0.266]\n",
      " [ 0.459 -0.215  0.414 -0.502 -0.502]]\n"
     ]
    }
   ],
   "source": [
    "''' problem (b) '''\n",
    "# eigenpairs of MtM\n",
    "mtm_eigvals, mtm_eigvecs = np.linalg.eig(mtm)\n",
    "print mtm_eigvals\n",
    "print mtm_eigvecs\n",
    "\n",
    "# eigenpairs of MMt\n",
    "mmt_eigvals, mmt_eigvecs = np.linalg.eig(mmt)\n",
    "mmt_eigvals = np.real(mmt_eigvals)\n",
    "mmt_eigvecs = np.real(mmt_eigvecs)\n",
    "print mmt_eigvals\n",
    "print mmt_eigvecs"
   ]
  },
  {
   "cell_type": "code",
   "execution_count": 264,
   "metadata": {
    "ExecuteTime": {
     "end_time": "2019-10-26T11:36:46.452962Z",
     "start_time": "2019-10-26T11:36:46.438888Z"
    },
    "scrolled": true
   },
   "outputs": [
    {
     "name": "stdout",
     "output_type": "stream",
     "text": [
      "[[-0.298  0.159]\n",
      " [-0.571 -0.033]\n",
      " [-0.521 -0.736]\n",
      " [-0.323  0.51 ]\n",
      " [-0.459  0.414]]\n",
      "[[12.392  0.   ]\n",
      " [ 0.     3.928]]\n",
      "[[-0.409 -0.816]\n",
      " [-0.563 -0.126]\n",
      " [-0.718  0.564]]\n"
     ]
    }
   ],
   "source": [
    "''' problem (c) '''\n",
    "# construct V\n",
    "V = mtm_eigvecs[:, [0,1]]\n",
    "\n",
    "# construct U\n",
    "U = mmt_eigvecs[:, [0,2]]\n",
    "U[:, 0] = -U[:, 0]\n",
    "\n",
    "# construct sigma\n",
    "d = np.sqrt(mtm_eigvals[[0,1]])\n",
    "sigma = np.diagflat(d)\n",
    "\n",
    "print U\n",
    "print sigma\n",
    "print V"
   ]
  },
  {
   "cell_type": "code",
   "execution_count": 267,
   "metadata": {
    "ExecuteTime": {
     "end_time": "2019-10-26T11:38:35.460898Z",
     "start_time": "2019-10-26T11:38:35.451666Z"
    }
   },
   "outputs": [
    {
     "name": "stdout",
     "output_type": "stream",
     "text": [
      "[[1.51  2.079 2.647]\n",
      " [2.894 3.984 5.074]\n",
      " [2.641 3.636 4.631]\n",
      " [1.636 2.252 2.869]\n",
      " [2.328 3.205 4.082]]\n"
     ]
    }
   ],
   "source": [
    "'''problem (d)'''\n",
    "V_ = V[:, 0:1]\n",
    "U_ = U[:, 0:1]\n",
    "sigma_ = sigma[0:1, 0:1]\n",
    "M_ = np.matmul(np.matmul(U_, sigma_), V_.T)\n",
    "print M_"
   ]
  },
  {
   "cell_type": "code",
   "execution_count": 268,
   "metadata": {
    "ExecuteTime": {
     "end_time": "2019-10-26T11:39:15.322761Z",
     "start_time": "2019-10-26T11:39:15.314025Z"
    }
   },
   "outputs": [
    {
     "name": "stdout",
     "output_type": "stream",
     "text": [
      "0.9086804524257934\n"
     ]
    }
   ],
   "source": [
    "'''problem (e)'''\n",
    "retained_energy = (sigma[0,0]**2) / (sigma[0,0]**2 + sigma[1,1]**2)\n",
    "print retained_energy"
   ]
  },
  {
   "cell_type": "markdown",
   "metadata": {},
   "source": [
    "### Exercise 11.4.2 (CUR decomposition)"
   ]
  },
  {
   "cell_type": "code",
   "execution_count": 341,
   "metadata": {
    "ExecuteTime": {
     "end_time": "2019-10-26T12:23:19.725836Z",
     "start_time": "2019-10-26T12:23:19.712752Z"
    }
   },
   "outputs": [],
   "source": [
    "import numpy as np\n",
    "from numpy.linalg import eig, norm\n",
    "M = np.array([[1,1,1,0,0], \n",
    "              [3,3,3,0,0], \n",
    "              [4,4,4,0,0], \n",
    "              [5,5,5,0,0], \n",
    "              [0,0,0,4,4], \n",
    "              [0,0,0,5,5], \n",
    "              [0,0,0,2,2]])"
   ]
  },
  {
   "cell_type": "code",
   "execution_count": 381,
   "metadata": {
    "ExecuteTime": {
     "end_time": "2019-10-26T14:35:57.464903Z",
     "start_time": "2019-10-26T14:35:57.419322Z"
    }
   },
   "outputs": [],
   "source": [
    "def CUR_verify(M, i, j, r=2):\n",
    "    p = (np.sum(M**2, axis=1)/norm(M)**2).flatten() # distribution of i\n",
    "    q = (np.sum(M**2, axis=0)/norm(M)**2).flatten() # distribution of j\n",
    "    \n",
    "    C = M[:, j]\n",
    "    R = M[i, :]\n",
    "\n",
    "    C = C / np.sqrt(r*q[j][np.newaxis, ...])\n",
    "    R = R / np.sqrt(r*p[i][..., np.newaxis])\n",
    "\n",
    "    W = M[i, :][:, j]\n",
    "\n",
    "    X, s, Yh = np.linalg.svd(W)\n",
    "    S = np.diagflat(s)\n",
    "    Sp = np.linalg.pinv(S)\n",
    "    print Sp\n",
    "    U = np.matmul(np.matmul(Yh.T, np.matmul(Sp, Sp)), X.T)\n",
    "    \n",
    "    return C, U, R"
   ]
  },
  {
   "cell_type": "code",
   "execution_count": 408,
   "metadata": {
    "ExecuteTime": {
     "end_time": "2019-10-26T14:50:15.146330Z",
     "start_time": "2019-10-26T14:50:15.115596Z"
    }
   },
   "outputs": [
    {
     "name": "stdout",
     "output_type": "stream",
     "text": [
      "[[1.543 1.543]\n",
      " [4.63  4.63 ]\n",
      " [6.174 6.174]\n",
      " [7.717 7.717]\n",
      " [0.    0.   ]\n",
      " [0.    0.   ]\n",
      " [0.    0.   ]]\n",
      "[[0.008 0.011]\n",
      " [0.008 0.011]]\n",
      "[[6.364 6.364 6.364 0.    0.   ]\n",
      " [6.364 6.364 6.364 0.    0.   ]]\n"
     ]
    }
   ],
   "source": [
    "'''problem (a)'''\n",
    "i, j = [1,2], [0,1]\n",
    "\n",
    "# construct C and R\n",
    "p = (np.sum(M**2, axis=1)/norm(M)**2).flatten() # distribution of i\n",
    "q = (np.sum(M**2, axis=0)/norm(M)**2).flatten() # distribution of j\n",
    "\n",
    "C = M[:, j] / np.sqrt(r*q[j][np.newaxis, ...])\n",
    "R = M[i, :] / np.sqrt(r*p[i][..., np.newaxis])\n",
    "\n",
    "# construct U\n",
    "W = M[i, :][:, j]\n",
    "\n",
    "# SVD of W\n",
    "d, Y = np.linalg.eig(np.matmul(W.T, W))\n",
    "_, X = np.linalg.eig(np.matmul(W, W.T))\n",
    "X = -X[:, [1,0]]\n",
    "sigma = np.diagflat(np.sqrt(d))\n",
    "\n",
    "# compute Moore-Penrose pseudoinverse of sigma\n",
    "d[0] = 1/d[0]\n",
    "sigma_p = np.diagflat(np.sqrt(d))\n",
    "\n",
    "U = np.matmul(np.matmul(Y,np.matmul(sigma_p, sigma_p)), X.T)\n",
    "\n",
    "print C\n",
    "print U\n",
    "print R"
   ]
  },
  {
   "cell_type": "code",
   "execution_count": 409,
   "metadata": {
    "ExecuteTime": {
     "end_time": "2019-10-26T14:50:16.081943Z",
     "start_time": "2019-10-26T14:50:16.052330Z"
    }
   },
   "outputs": [
    {
     "name": "stdout",
     "output_type": "stream",
     "text": [
      "[[1.543 1.543]\n",
      " [4.63  4.63 ]\n",
      " [6.174 6.174]\n",
      " [7.717 7.717]\n",
      " [0.    0.   ]\n",
      " [0.    0.   ]\n",
      " [0.    0.   ]]\n",
      "[[0.014 0.   ]\n",
      " [0.014 0.   ]]\n",
      "[[6.364 6.364 6.364 0.    0.   ]\n",
      " [0.    0.    0.    7.794 7.794]]\n"
     ]
    }
   ],
   "source": [
    "'''problem (b)'''\n",
    "i, j = [3,4], [1,2]\n",
    "\n",
    "# construct C and R\n",
    "p = (np.sum(M**2, axis=1)/norm(M)**2).flatten() # distribution of i\n",
    "q = (np.sum(M**2, axis=0)/norm(M)**2).flatten() # distribution of j\n",
    "\n",
    "C = M[:, j] / np.sqrt(r*q[j][np.newaxis, ...])\n",
    "R = M[i, :] / np.sqrt(r*p[i][..., np.newaxis])\n",
    "\n",
    "# construct U\n",
    "W = M[i, :][:, j]\n",
    "\n",
    "# SVD of W\n",
    "d, Y = np.linalg.eig(np.matmul(W.T, W))\n",
    "_, X = np.linalg.eig(np.matmul(W, W.T))\n",
    "sigma = np.diagflat(np.sqrt(d))\n",
    "\n",
    "# compute Moore-Penrose pseudoinverse of sigma\n",
    "d[0] = 1/d[0]\n",
    "sigma_p = np.diagflat(np.sqrt(d))\n",
    "\n",
    "U = np.matmul(np.matmul(Y,np.matmul(sigma_p, sigma_p)), X.T)\n",
    "\n",
    "print C\n",
    "print U\n",
    "print R"
   ]
  },
  {
   "cell_type": "code",
   "execution_count": 410,
   "metadata": {
    "ExecuteTime": {
     "end_time": "2019-10-26T14:50:16.150241Z",
     "start_time": "2019-10-26T14:50:16.107138Z"
    }
   },
   "outputs": [
    {
     "name": "stdout",
     "output_type": "stream",
     "text": [
      "[[1.543 0.   ]\n",
      " [4.63  0.   ]\n",
      " [6.174 0.   ]\n",
      " [7.717 0.   ]\n",
      " [0.    6.573]\n",
      " [0.    8.216]\n",
      " [0.    3.286]]\n",
      "[[1.   0.  ]\n",
      " [0.   0.25]]\n",
      "[[6.364 6.364 6.364 0.    0.   ]\n",
      " [0.    0.    0.    7.794 7.794]]\n"
     ]
    }
   ],
   "source": [
    "'''problem (c)'''\n",
    "i, j = [0,6], [0,4]\n",
    "\n",
    "# construct C and R\n",
    "p = (np.sum(M**2, axis=1)/norm(M)**2).flatten() # distribution of i\n",
    "q = (np.sum(M**2, axis=0)/norm(M)**2).flatten() # distribution of j\n",
    "\n",
    "C = M[:, j] / np.sqrt(r*q[j][np.newaxis, ...])\n",
    "R = M[i, :] / np.sqrt(r*p[i][..., np.newaxis])\n",
    "\n",
    "# construct U\n",
    "W = M[i, :][:, j]\n",
    "\n",
    "# SVD of W\n",
    "d, Y = np.linalg.eig(np.matmul(W.T, W))\n",
    "_, X = np.linalg.eig(np.matmul(W, W.T))\n",
    "sigma = np.diagflat(np.sqrt(d))\n",
    "\n",
    "# compute Moore-Penrose pseudoinverse of sigma\n",
    "d = 1/d\n",
    "sigma_p = np.diagflat(np.sqrt(d))\n",
    "\n",
    "U = np.matmul(np.matmul(Y,np.matmul(sigma_p, sigma_p)), X.T)\n",
    "\n",
    "print C\n",
    "print U\n",
    "print R"
   ]
  }
 ],
 "metadata": {
  "kernelspec": {
   "display_name": "Python 2",
   "language": "python",
   "name": "python2"
  },
  "language_info": {
   "codemirror_mode": {
    "name": "ipython",
    "version": 2
   },
   "file_extension": ".py",
   "mimetype": "text/x-python",
   "name": "python",
   "nbconvert_exporter": "python",
   "pygments_lexer": "ipython2",
   "version": "2.7.16"
  },
  "toc": {
   "base_numbering": 1,
   "nav_menu": {},
   "number_sections": true,
   "sideBar": true,
   "skip_h1_title": false,
   "title_cell": "Table of Contents",
   "title_sidebar": "Contents",
   "toc_cell": false,
   "toc_position": {
    "height": "calc(100% - 180px)",
    "left": "10px",
    "top": "150px",
    "width": "292px"
   },
   "toc_section_display": true,
   "toc_window_display": true
  },
  "varInspector": {
   "cols": {
    "lenName": 16,
    "lenType": 16,
    "lenVar": 40
   },
   "kernels_config": {
    "python": {
     "delete_cmd_postfix": "",
     "delete_cmd_prefix": "del ",
     "library": "var_list.py",
     "varRefreshCmd": "print(var_dic_list())"
    },
    "r": {
     "delete_cmd_postfix": ") ",
     "delete_cmd_prefix": "rm(",
     "library": "var_list.r",
     "varRefreshCmd": "cat(var_dic_list()) "
    }
   },
   "oldHeight": 402,
   "position": {
    "height": "424px",
    "left": "1511px",
    "right": "20px",
    "top": "119px",
    "width": "357px"
   },
   "types_to_exclude": [
    "module",
    "function",
    "builtin_function_or_method",
    "instance",
    "_Feature"
   ],
   "varInspector_section_display": "block",
   "window_display": true
  }
 },
 "nbformat": 4,
 "nbformat_minor": 2
}
